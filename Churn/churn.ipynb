{
 "cells": [
  {
   "cell_type": "markdown",
   "metadata": {},
   "source": [
    "# Customer Churn Prediction\n",
    "Customer churn (aka customer attrition) occurs when customers or subscribers stop doing business with a company or service.<br>\n",
    "It is a critical metric because it is much less expensive to retain existing customers than it is to acquire new customers."
   ]
  },
  {
   "cell_type": "code",
   "execution_count": 41,
   "metadata": {},
   "outputs": [],
   "source": [
    "import numpy as np\n",
    "import matplotlib.pyplot as plt\n",
    "import pandas as pd\n",
    "from sklearn.preprocessing import MinMaxScaler\n",
    "from sklearn.model_selection import train_test_split\n",
    "import tensorflow as tf\n",
    "from tensorflow import keras\n",
    "import seaborn as sn\n",
    "\n",
    "%matplotlib inline"
   ]
  },
  {
   "cell_type": "markdown",
   "metadata": {},
   "source": [
    "**Load the data**<br>\n",
    "(and process it)"
   ]
  },
  {
   "cell_type": "code",
   "execution_count": 42,
   "metadata": {},
   "outputs": [],
   "source": [
    "df = pd.read_csv(\"data.csv\")\n",
    "df.drop('customerID', axis='columns', inplace=True)\n",
    "# 20 fields now"
   ]
  },
  {
   "cell_type": "code",
   "execution_count": 43,
   "metadata": {},
   "outputs": [
    {
     "data": {
      "text/plain": [
       "array(['29.85', '1889.5', '108.15', ..., '346.45', '306.6', '6844.5'],\n",
       "      dtype=object)"
      ]
     },
     "execution_count": 43,
     "metadata": {},
     "output_type": "execute_result"
    }
   ],
   "source": [
    "df.TotalCharges.values   # strings!! (should be numeric)"
   ]
  },
  {
   "cell_type": "code",
   "execution_count": 44,
   "metadata": {},
   "outputs": [
    {
     "name": "stdout",
     "output_type": "stream",
     "text": [
      "(7032, 20)\n"
     ]
    }
   ],
   "source": [
    "df[pd.to_numeric(df.TotalCharges,errors='coerce').isnull()]     # check which records are problematic\n",
    "df = df[df.TotalCharges!=' ']                                   # drop the records with blank TotalCharges\n",
    "print (df.shape)\n",
    "df.TotalCharges = pd.to_numeric(df.TotalCharges)"
   ]
  },
  {
   "cell_type": "code",
   "execution_count": 45,
   "metadata": {},
   "outputs": [
    {
     "data": {
      "text/plain": [
       "array([  29.85, 1889.5 ,  108.15, ...,  346.45,  306.6 , 6844.5 ])"
      ]
     },
     "execution_count": 45,
     "metadata": {},
     "output_type": "execute_result"
    }
   ],
   "source": [
    "df.TotalCharges.values"
   ]
  },
  {
   "cell_type": "markdown",
   "metadata": {},
   "source": [
    "Logically, more tenure should mean less churn rate.<br>\n",
    "Let's visualize the data."
   ]
  },
  {
   "cell_type": "code",
   "execution_count": 46,
   "metadata": {},
   "outputs": [
    {
     "data": {
      "text/plain": [
       "<matplotlib.legend.Legend at 0x1eadf614430>"
      ]
     },
     "execution_count": 46,
     "metadata": {},
     "output_type": "execute_result"
    },
    {
     "data": {
      "image/png": "[encoded data removed]",
      "text/plain": [
       "<Figure size 432x288 with 1 Axes>"
      ]
     },
     "metadata": {
      "needs_background": "light"
     },
     "output_type": "display_data"
    }
   ],
   "source": [
    "# tenure\n",
    "\n",
    "no = df[df.Churn=='No'].tenure\n",
    "yes = df[df.Churn=='Yes'].tenure\n",
    "\n",
    "plt.xlabel(\"Tenure\")\n",
    "plt.ylabel(\"# Customers\")\n",
    "plt.title(\"Customer Churn\")\n",
    "\n",
    "plt.hist([yes,no])\n",
    "plt.legend(['Churned','Not Churned'])"
   ]
  },
  {
   "cell_type": "markdown",
   "metadata": {},
   "source": [
    "Can conclude that for the present case, higher tenure sees less churn.<br>\n",
    "<pre>-----</pre>"
   ]
  },
  {
   "cell_type": "code",
   "execution_count": 47,
   "metadata": {},
   "outputs": [
    {
     "name": "stdout",
     "output_type": "stream",
     "text": [
      "gender\t\t\t['Female' 'Male']\n",
      "Partner\t\t\t['Yes' 'No']\n",
      "Dependents\t\t['No' 'Yes']\n",
      "PhoneService\t\t['No' 'Yes']\n",
      "MultipleLines\t\t['No phone service' 'No' 'Yes']\n",
      "InternetService\t\t['DSL' 'Fiber optic' 'No']\n",
      "OnlineSecurity\t\t['No' 'Yes' 'No internet service']\n",
      "OnlineBackup\t\t['Yes' 'No' 'No internet service']\n",
      "DeviceProtection\t['No' 'Yes' 'No internet service']\n",
      "TechSupport\t\t['No' 'Yes' 'No internet service']\n",
      "StreamingTV\t\t['No' 'Yes' 'No internet service']\n",
      "StreamingMovies\t\t['No' 'Yes' 'No internet service']\n",
      "Contract\t\t['Month-to-month' 'One year' 'Two year']\n",
      "PaperlessBilling\t['Yes' 'No']\n",
      "PaymentMethod\t\t['Electronic check' 'Mailed check' 'Bank transfer (automatic)'\n",
      " 'Credit card (automatic)']\n",
      "Churn\t\t\t['No' 'Yes']\n"
     ]
    }
   ],
   "source": [
    "for column in df:\n",
    "    if df[column].dtypes=='object':\n",
    "        if column in ['gender', 'Partner', 'Churn']:\n",
    "            print(f'{column}\\t\\t\\t{df[column].unique()}')\n",
    "        elif column in ['DeviceProtection', 'PaperlessBilling']:\n",
    "            print(f'{column}\\t{df[column].unique()}')\n",
    "        else:\n",
    "            print(f'{column}\\t\\t{df[column].unique()}')"
   ]
  },
  {
   "cell_type": "code",
   "execution_count": 48,
   "metadata": {},
   "outputs": [],
   "source": [
    "df = df.replace('No internet service', 'No')\n",
    "df = df.replace('No phone service', 'No')\n",
    "\n",
    "yes_no = ['gender', 'Partner', 'Dependents', 'PhoneService', 'MultipleLines', 'OnlineSecurity', 'OnlineBackup', 'DeviceProtection', 'TechSupport', 'StreamingTV', 'StreamingMovies', 'PaperlessBilling', 'Churn']\n",
    "for col in yes_no:\n",
    "    if col=='gender':\n",
    "        df[col].replace({'Female':1,'Male':0}, inplace=True)\n",
    "    else:\n",
    "        df[col].replace({'Yes': 1,'No': 0}, inplace=True)\n",
    "\n",
    "# Convert all the categorical variables into dummy variables\n",
    "# for each column with more than 2 fields, we create new fields (one hot encoding)\n",
    "df = pd.get_dummies(data=df, columns=['InternetService','Contract','PaymentMethod'])"
   ]
  },
  {
   "cell_type": "code",
   "execution_count": 49,
   "metadata": {},
   "outputs": [
    {
     "data": {
      "text/html": [
       "<div>\n",
       "<style scoped>\n",
       "    .dataframe tbody tr th:only-of-type {\n",
       "        vertical-align: middle;\n",
       "    }\n",
       "\n",
       "    .dataframe tbody tr th {\n",
       "        vertical-align: top;\n",
       "    }\n",
       "\n",
       "    .dataframe thead th {\n",
       "        text-align: right;\n",
       "    }\n",
       "</style>\n",
       "<table border=\"1\" class=\"dataframe\">\n",
       "  <thead>\n",
       "    <tr style=\"text-align: right;\">\n",
       "      <th></th>\n",
       "      <th>gender</th>\n",
       "      <th>SeniorCitizen</th>\n",
       "      <th>Partner</th>\n",
       "      <th>Dependents</th>\n",
       "      <th>tenure</th>\n",
       "      <th>PhoneService</th>\n",
       "      <th>MultipleLines</th>\n",
       "      <th>OnlineSecurity</th>\n",
       "      <th>OnlineBackup</th>\n",
       "      <th>DeviceProtection</th>\n",
       "      <th>...</th>\n",
       "      <th>InternetService_DSL</th>\n",
       "      <th>InternetService_Fiber optic</th>\n",
       "      <th>InternetService_No</th>\n",
       "      <th>Contract_Month-to-month</th>\n",
       "      <th>Contract_One year</th>\n",
       "      <th>Contract_Two year</th>\n",
       "      <th>PaymentMethod_Bank transfer (automatic)</th>\n",
       "      <th>PaymentMethod_Credit card (automatic)</th>\n",
       "      <th>PaymentMethod_Electronic check</th>\n",
       "      <th>PaymentMethod_Mailed check</th>\n",
       "    </tr>\n",
       "  </thead>\n",
       "  <tbody>\n",
       "    <tr>\n",
       "      <th>3575</th>\n",
       "      <td>0</td>\n",
       "      <td>0</td>\n",
       "      <td>0</td>\n",
       "      <td>0</td>\n",
       "      <td>59</td>\n",
       "      <td>0</td>\n",
       "      <td>0</td>\n",
       "      <td>0</td>\n",
       "      <td>0</td>\n",
       "      <td>0</td>\n",
       "      <td>...</td>\n",
       "      <td>1</td>\n",
       "      <td>0</td>\n",
       "      <td>0</td>\n",
       "      <td>1</td>\n",
       "      <td>0</td>\n",
       "      <td>0</td>\n",
       "      <td>0</td>\n",
       "      <td>0</td>\n",
       "      <td>1</td>\n",
       "      <td>0</td>\n",
       "    </tr>\n",
       "  </tbody>\n",
       "</table>\n",
       "<p>1 rows × 27 columns</p>\n",
       "</div>"
      ],
      "text/plain": [
       "      gender  SeniorCitizen  Partner  Dependents  tenure  PhoneService  \\\n",
       "3575       0              0        0           0      59             0   \n",
       "\n",
       "      MultipleLines  OnlineSecurity  OnlineBackup  DeviceProtection  ...  \\\n",
       "3575              0               0             0                 0  ...   \n",
       "\n",
       "      InternetService_DSL  InternetService_Fiber optic  InternetService_No  \\\n",
       "3575                    1                            0                   0   \n",
       "\n",
       "      Contract_Month-to-month  Contract_One year  Contract_Two year  \\\n",
       "3575                        1                  0                  0   \n",
       "\n",
       "      PaymentMethod_Bank transfer (automatic)  \\\n",
       "3575                                        0   \n",
       "\n",
       "      PaymentMethod_Credit card (automatic)  PaymentMethod_Electronic check  \\\n",
       "3575                                      0                               1   \n",
       "\n",
       "      PaymentMethod_Mailed check  \n",
       "3575                           0  \n",
       "\n",
       "[1 rows x 27 columns]"
      ]
     },
     "execution_count": 49,
     "metadata": {},
     "output_type": "execute_result"
    }
   ],
   "source": [
    "df.sample(1)"
   ]
  },
  {
   "cell_type": "markdown",
   "metadata": {},
   "source": [
    "Scale all columns to get values in [0,1]"
   ]
  },
  {
   "cell_type": "code",
   "execution_count": 50,
   "metadata": {},
   "outputs": [],
   "source": [
    "cols = ['tenure','MonthlyCharges','TotalCharges']\n",
    "df[cols] = MinMaxScaler().fit_transform(df[cols])"
   ]
  },
  {
   "cell_type": "markdown",
   "metadata": {},
   "source": [
    "Split data into training set and test set (80-20 ratio)"
   ]
  },
  {
   "cell_type": "code",
   "execution_count": 51,
   "metadata": {},
   "outputs": [],
   "source": [
    "Y = df['Churn']\n",
    "X = df.drop('Churn',axis='columns')\n",
    "X_train, X_test, Y_train, Y_test = train_test_split (X,Y, test_size=0.2, random_state=5)"
   ]
  },
  {
   "cell_type": "markdown",
   "metadata": {},
   "source": [
    "**Neural Network**\n",
    "<pre>\n",
    "Layer               Units           Activation\n",
    "Input layer         26              \n",
    "Hidden_1            26              ReLU\n",
    "Hidden_2            15              ReLU\n",
    "Output              1               Sigmoid\n",
    "</pre>"
   ]
  },
  {
   "cell_type": "code",
   "execution_count": 52,
   "metadata": {},
   "outputs": [
    {
     "name": "stdout",
     "output_type": "stream",
     "text": [
      "Epoch 1/100\n",
      "176/176 [==============================] - 0s 772us/step - loss: 0.4685 - accuracy: 0.7714\n",
      "Epoch 2/100\n",
      "176/176 [==============================] - 0s 807us/step - loss: 0.4264 - accuracy: 0.7984\n",
      "Epoch 3/100\n",
      "176/176 [==============================] - 0s 674us/step - loss: 0.4191 - accuracy: 0.8020\n",
      "Epoch 4/100\n",
      "176/176 [==============================] - 0s 651us/step - loss: 0.4152 - accuracy: 0.8032\n",
      "Epoch 5/100\n",
      "176/176 [==============================] - 0s 693us/step - loss: 0.4136 - accuracy: 0.8039\n",
      "Epoch 6/100\n",
      "176/176 [==============================] - 0s 669us/step - loss: 0.4111 - accuracy: 0.8050\n",
      "Epoch 7/100\n",
      "176/176 [==============================] - 0s 674us/step - loss: 0.4089 - accuracy: 0.8053\n",
      "Epoch 8/100\n",
      "176/176 [==============================] - 0s 624us/step - loss: 0.4076 - accuracy: 0.8068\n",
      "Epoch 9/100\n",
      "176/176 [==============================] - 0s 619us/step - loss: 0.4061 - accuracy: 0.8089\n",
      "Epoch 10/100\n",
      "176/176 [==============================] - 0s 656us/step - loss: 0.4057 - accuracy: 0.8084\n",
      "Epoch 11/100\n",
      "176/176 [==============================] - 0s 628us/step - loss: 0.4041 - accuracy: 0.8091\n",
      "Epoch 12/100\n",
      "176/176 [==============================] - 0s 734us/step - loss: 0.4031 - accuracy: 0.8124\n",
      "Epoch 13/100\n",
      "176/176 [==============================] - 0s 693us/step - loss: 0.4033 - accuracy: 0.8098\n",
      "Epoch 14/100\n",
      "176/176 [==============================] - 0s 667us/step - loss: 0.4010 - accuracy: 0.8098\n",
      "Epoch 15/100\n",
      "176/176 [==============================] - 0s 644us/step - loss: 0.4011 - accuracy: 0.8132\n",
      "Epoch 16/100\n",
      "176/176 [==============================] - 0s 678us/step - loss: 0.3996 - accuracy: 0.8110\n",
      "Epoch 17/100\n",
      "176/176 [==============================] - 0s 775us/step - loss: 0.3971 - accuracy: 0.8126\n",
      "Epoch 18/100\n",
      "176/176 [==============================] - 0s 732us/step - loss: 0.3967 - accuracy: 0.8114\n",
      "Epoch 19/100\n",
      "176/176 [==============================] - 0s 682us/step - loss: 0.3960 - accuracy: 0.8158\n",
      "Epoch 20/100\n",
      "176/176 [==============================] - 0s 566us/step - loss: 0.3944 - accuracy: 0.8132\n",
      "Epoch 21/100\n",
      "176/176 [==============================] - 0s 685us/step - loss: 0.3936 - accuracy: 0.8114\n",
      "Epoch 22/100\n",
      "176/176 [==============================] - 0s 605us/step - loss: 0.3918 - accuracy: 0.8162\n",
      "Epoch 23/100\n",
      "176/176 [==============================] - 0s 701us/step - loss: 0.3917 - accuracy: 0.8108\n",
      "Epoch 24/100\n",
      "176/176 [==============================] - 0s 642us/step - loss: 0.3908 - accuracy: 0.8142\n",
      "Epoch 25/100\n",
      "176/176 [==============================] - 0s 739us/step - loss: 0.3897 - accuracy: 0.8171\n",
      "Epoch 26/100\n",
      "176/176 [==============================] - 0s 647us/step - loss: 0.3878 - accuracy: 0.8185\n",
      "Epoch 27/100\n",
      "176/176 [==============================] - 0s 663us/step - loss: 0.3878 - accuracy: 0.8158\n",
      "Epoch 28/100\n",
      "176/176 [==============================] - 0s 591us/step - loss: 0.3877 - accuracy: 0.8174\n",
      "Epoch 29/100\n",
      "176/176 [==============================] - 0s 574us/step - loss: 0.3860 - accuracy: 0.8185\n",
      "Epoch 30/100\n",
      "176/176 [==============================] - 0s 739us/step - loss: 0.3853 - accuracy: 0.8160\n",
      "Epoch 31/100\n",
      "176/176 [==============================] - 0s 642us/step - loss: 0.3849 - accuracy: 0.8188\n",
      "Epoch 32/100\n",
      "176/176 [==============================] - 0s 812us/step - loss: 0.3846 - accuracy: 0.8167\n",
      "Epoch 33/100\n",
      "176/176 [==============================] - 0s 712us/step - loss: 0.3828 - accuracy: 0.8206\n",
      "Epoch 34/100\n",
      "176/176 [==============================] - 0s 681us/step - loss: 0.3823 - accuracy: 0.8226\n",
      "Epoch 35/100\n",
      "176/176 [==============================] - 0s 676us/step - loss: 0.3816 - accuracy: 0.8222\n",
      "Epoch 36/100\n",
      "176/176 [==============================] - 0s 696us/step - loss: 0.3815 - accuracy: 0.8183\n",
      "Epoch 37/100\n",
      "176/176 [==============================] - 0s 672us/step - loss: 0.3808 - accuracy: 0.8208\n",
      "Epoch 38/100\n",
      "176/176 [==============================] - 0s 845us/step - loss: 0.3794 - accuracy: 0.8220\n",
      "Epoch 39/100\n",
      "176/176 [==============================] - 0s 803us/step - loss: 0.3780 - accuracy: 0.8236\n",
      "Epoch 40/100\n",
      "176/176 [==============================] - 0s 762us/step - loss: 0.3784 - accuracy: 0.8213\n",
      "Epoch 41/100\n",
      "176/176 [==============================] - 0s 655us/step - loss: 0.3773 - accuracy: 0.8244\n",
      "Epoch 42/100\n",
      "176/176 [==============================] - 0s 848us/step - loss: 0.3772 - accuracy: 0.8240\n",
      "Epoch 43/100\n",
      "176/176 [==============================] - 0s 652us/step - loss: 0.3759 - accuracy: 0.8206\n",
      "Epoch 44/100\n",
      "176/176 [==============================] - 0s 774us/step - loss: 0.3756 - accuracy: 0.8235\n",
      "Epoch 45/100\n",
      "176/176 [==============================] - 0s 718us/step - loss: 0.3747 - accuracy: 0.8212\n",
      "Epoch 46/100\n",
      "176/176 [==============================] - 0s 606us/step - loss: 0.3742 - accuracy: 0.8240\n",
      "Epoch 47/100\n",
      "176/176 [==============================] - 0s 794us/step - loss: 0.3726 - accuracy: 0.8252\n",
      "Epoch 48/100\n",
      "176/176 [==============================] - 0s 764us/step - loss: 0.3726 - accuracy: 0.8235\n",
      "Epoch 49/100\n",
      "176/176 [==============================] - 0s 681us/step - loss: 0.3729 - accuracy: 0.8252\n",
      "Epoch 50/100\n",
      "176/176 [==============================] - 0s 796us/step - loss: 0.3713 - accuracy: 0.8238\n",
      "Epoch 51/100\n",
      "176/176 [==============================] - 0s 643us/step - loss: 0.3710 - accuracy: 0.8265\n",
      "Epoch 52/100\n",
      "176/176 [==============================] - 0s 685us/step - loss: 0.3718 - accuracy: 0.8247\n",
      "Epoch 53/100\n",
      "176/176 [==============================] - 0s 828us/step - loss: 0.3696 - accuracy: 0.8249\n",
      "Epoch 54/100\n",
      "176/176 [==============================] - 0s 749us/step - loss: 0.3688 - accuracy: 0.8288\n",
      "Epoch 55/100\n",
      "176/176 [==============================] - 0s 746us/step - loss: 0.3679 - accuracy: 0.8263\n",
      "Epoch 56/100\n",
      "176/176 [==============================] - 0s 678us/step - loss: 0.3673 - accuracy: 0.8236\n",
      "Epoch 57/100\n",
      "176/176 [==============================] - 0s 766us/step - loss: 0.3672 - accuracy: 0.8260\n",
      "Epoch 58/100\n",
      "176/176 [==============================] - 0s 846us/step - loss: 0.3655 - accuracy: 0.8277\n",
      "Epoch 59/100\n",
      "176/176 [==============================] - 0s 702us/step - loss: 0.3658 - accuracy: 0.8277\n",
      "Epoch 60/100\n",
      "176/176 [==============================] - 0s 733us/step - loss: 0.3649 - accuracy: 0.8290\n",
      "Epoch 61/100\n",
      "176/176 [==============================] - 0s 914us/step - loss: 0.3648 - accuracy: 0.8302\n",
      "Epoch 62/100\n",
      "176/176 [==============================] - 0s 729us/step - loss: 0.3650 - accuracy: 0.8313\n",
      "Epoch 63/100\n",
      "176/176 [==============================] - 0s 685us/step - loss: 0.3634 - accuracy: 0.8276\n",
      "Epoch 64/100\n",
      "176/176 [==============================] - 0s 675us/step - loss: 0.3624 - accuracy: 0.8295\n",
      "Epoch 65/100\n",
      "176/176 [==============================] - 0s 757us/step - loss: 0.3622 - accuracy: 0.8315\n",
      "Epoch 66/100\n",
      "176/176 [==============================] - 0s 781us/step - loss: 0.3609 - accuracy: 0.8322\n",
      "Epoch 67/100\n",
      "176/176 [==============================] - 0s 734us/step - loss: 0.3602 - accuracy: 0.8300\n",
      "Epoch 68/100\n",
      "176/176 [==============================] - 0s 693us/step - loss: 0.3602 - accuracy: 0.8311\n",
      "Epoch 69/100\n",
      "176/176 [==============================] - 0s 684us/step - loss: 0.3586 - accuracy: 0.8322\n",
      "Epoch 70/100\n",
      "176/176 [==============================] - 0s 702us/step - loss: 0.3590 - accuracy: 0.8308\n",
      "Epoch 71/100\n",
      "176/176 [==============================] - 0s 677us/step - loss: 0.3587 - accuracy: 0.8297\n",
      "Epoch 72/100\n",
      "176/176 [==============================] - 0s 707us/step - loss: 0.3572 - accuracy: 0.8325\n",
      "Epoch 73/100\n",
      "176/176 [==============================] - 0s 724us/step - loss: 0.3567 - accuracy: 0.8325\n",
      "Epoch 74/100\n",
      "176/176 [==============================] - 0s 689us/step - loss: 0.3568 - accuracy: 0.8308\n",
      "Epoch 75/100\n",
      "176/176 [==============================] - 0s 716us/step - loss: 0.3568 - accuracy: 0.8338\n",
      "Epoch 76/100\n",
      "176/176 [==============================] - 0s 713us/step - loss: 0.3550 - accuracy: 0.8361\n",
      "Epoch 77/100\n",
      "176/176 [==============================] - 0s 688us/step - loss: 0.3548 - accuracy: 0.8325\n",
      "Epoch 78/100\n",
      "176/176 [==============================] - 0s 707us/step - loss: 0.3553 - accuracy: 0.8348\n",
      "Epoch 79/100\n",
      "176/176 [==============================] - 0s 833us/step - loss: 0.3529 - accuracy: 0.8352\n",
      "Epoch 80/100\n",
      "176/176 [==============================] - 0s 674us/step - loss: 0.3531 - accuracy: 0.8379\n",
      "Epoch 81/100\n",
      "176/176 [==============================] - 0s 676us/step - loss: 0.3519 - accuracy: 0.8356\n",
      "Epoch 82/100\n",
      "176/176 [==============================] - 0s 693us/step - loss: 0.3513 - accuracy: 0.8338\n",
      "Epoch 83/100\n",
      "176/176 [==============================] - 0s 695us/step - loss: 0.3519 - accuracy: 0.8372\n",
      "Epoch 84/100\n",
      "176/176 [==============================] - 0s 689us/step - loss: 0.3513 - accuracy: 0.8334\n",
      "Epoch 85/100\n",
      "176/176 [==============================] - 0s 678us/step - loss: 0.3515 - accuracy: 0.8361\n",
      "Epoch 86/100\n",
      "176/176 [==============================] - 0s 693us/step - loss: 0.3494 - accuracy: 0.8405\n",
      "Epoch 87/100\n",
      "176/176 [==============================] - 0s 671us/step - loss: 0.3492 - accuracy: 0.8363\n",
      "Epoch 88/100\n",
      "176/176 [==============================] - 0s 761us/step - loss: 0.3486 - accuracy: 0.8373\n",
      "Epoch 89/100\n",
      "176/176 [==============================] - 0s 684us/step - loss: 0.3485 - accuracy: 0.8379\n",
      "Epoch 90/100\n",
      "176/176 [==============================] - 0s 690us/step - loss: 0.3479 - accuracy: 0.8364\n",
      "Epoch 91/100\n",
      "176/176 [==============================] - 0s 676us/step - loss: 0.3484 - accuracy: 0.8345\n",
      "Epoch 92/100\n",
      "176/176 [==============================] - 0s 686us/step - loss: 0.3461 - accuracy: 0.8377\n",
      "Epoch 93/100\n",
      "176/176 [==============================] - 0s 689us/step - loss: 0.3460 - accuracy: 0.8363\n",
      "Epoch 94/100\n",
      "176/176 [==============================] - 0s 689us/step - loss: 0.3453 - accuracy: 0.8396\n",
      "Epoch 95/100\n",
      "176/176 [==============================] - 0s 684us/step - loss: 0.3456 - accuracy: 0.8386\n",
      "Epoch 96/100\n",
      "176/176 [==============================] - 0s 680us/step - loss: 0.3440 - accuracy: 0.8404\n",
      "Epoch 97/100\n",
      "176/176 [==============================] - 0s 680us/step - loss: 0.3433 - accuracy: 0.8409\n",
      "Epoch 98/100\n",
      "176/176 [==============================] - 0s 670us/step - loss: 0.3433 - accuracy: 0.8384\n",
      "Epoch 99/100\n",
      "176/176 [==============================] - 0s 720us/step - loss: 0.3427 - accuracy: 0.8384\n",
      "Epoch 100/100\n",
      "176/176 [==============================] - 0s 724us/step - loss: 0.3423 - accuracy: 0.8423\n"
     ]
    },
    {
     "data": {
      "text/plain": [
       "<keras.callbacks.History at 0x1ea8c4a3910>"
      ]
     },
     "execution_count": 52,
     "metadata": {},
     "output_type": "execute_result"
    }
   ],
   "source": [
    "# dense layer means the neurons of the layer are connected to every neuron of its preceding layer\n",
    "\n",
    "model = keras.Sequential([\n",
    "    keras.layers.Dense(26, input_shape=(26,), activation='relu'),\n",
    "    keras.layers.Dense(15, activation='relu'),\n",
    "    keras.layers.Dense(1, activation='sigmoid')\n",
    "])\n",
    "\n",
    "model.compile(optimizer='adam',\n",
    "              loss='binary_crossentropy',   # because this is binary classification (churn / not churn)\n",
    "              metrics=['accuracy'])\n",
    "\n",
    "model.fit(X_train, Y_train, epochs=100)"
   ]
  },
  {
   "cell_type": "code",
   "execution_count": 53,
   "metadata": {},
   "outputs": [
    {
     "name": "stdout",
     "output_type": "stream",
     "text": [
      "44/44 [==============================] - 0s 627us/step - loss: 0.4950 - accuracy: 0.7633\n"
     ]
    },
    {
     "data": {
      "text/plain": [
       "[0.49502938985824585, 0.7633262276649475]"
      ]
     },
     "execution_count": 53,
     "metadata": {},
     "output_type": "execute_result"
    }
   ],
   "source": [
    "model.evaluate(X_test, Y_test)"
   ]
  },
  {
   "cell_type": "code",
   "execution_count": 54,
   "metadata": {},
   "outputs": [
    {
     "name": "stdout",
     "output_type": "stream",
     "text": [
      "[[0.39221692]\n",
      " [0.4666936 ]\n",
      " [0.00751141]\n",
      " [0.7295599 ]\n",
      " [0.32882112]\n",
      " [0.90594876]\n",
      " [0.02479598]\n",
      " [0.35342455]\n",
      " [0.08188438]\n",
      " [0.5058405 ]]\n",
      "[0, 0, 0, 1, 0, 1, 0, 0, 0, 1]\n"
     ]
    }
   ],
   "source": [
    "Y_pred_0 = model.predict(X_test)\n",
    "print(Y_pred_0[:10])\n",
    "\n",
    "Y_pred = []\n",
    "\n",
    "for element in Y_pred_0:\n",
    "    if element > 0.5:\n",
    "        Y_pred.append(1)\n",
    "    else:\n",
    "        Y_pred.append(0)\n",
    "\n",
    "print(Y_pred[:10])"
   ]
  },
  {
   "cell_type": "code",
   "execution_count": 55,
   "metadata": {},
   "outputs": [
    {
     "data": {
      "text/plain": [
       "Text(33.0, 0.5, 'Actual')"
      ]
     },
     "execution_count": 55,
     "metadata": {},
     "output_type": "execute_result"
    },
    {
     "data": {
      "image/png": "[encoded data removed]",
      "text/plain": [
       "<Figure size 432x288 with 2 Axes>"
      ]
     },
     "metadata": {
      "needs_background": "light"
     },
     "output_type": "display_data"
    }
   ],
   "source": [
    "cm = tf.math.confusion_matrix(labels=Y_test,predictions=Y_pred)\n",
    "\n",
    "sn.heatmap(cm, annot=True, fmt='d')\n",
    "plt.xlabel('Predicted')\n",
    "plt.ylabel('Actual')"
   ]
  },
  {
   "cell_type": "markdown",
   "metadata": {},
   "source": [
    "Precision, Recall, and F1 Score\n",
    "<pre>\n",
    "Precision   : #true_positives / (#true_positives + #false_positives)\n",
    "Recall      : #true_positives / (#true_positives + #false_negatives)\n",
    "F1 Score    : Harmonic Mean of Precision and Recall = 2*P*R/(P+R)\n",
    "</pre>"
   ]
  },
  {
   "cell_type": "code",
   "execution_count": 56,
   "metadata": {},
   "outputs": [
    {
     "name": "stdout",
     "output_type": "stream",
     "text": [
      "Precision for people who didn't churn = 0.82\n",
      "Precision for people who churned = 0.62\n",
      "Recall for people who didn't churn = 0.87\n",
      "Recall for people who churned = 0.53\n"
     ]
    }
   ],
   "source": [
    "print('Precision for people who didn\\'t churn =', round(866/(866+191),2))\n",
    "print('Precision for people who churned =', round(217/(217+133),2))\n",
    "print('Recall for people who didn\\'t churn =', round(866/(866+133),2))\n",
    "print('Recall for people who churned =', round(217/(217+191),2))"
   ]
  },
  {
   "cell_type": "code",
   "execution_count": 57,
   "metadata": {},
   "outputs": [],
   "source": [
    "model.save('model_saved.h5')        # used in the Flask app!"
   ]
  },
  {
   "cell_type": "markdown",
   "metadata": {},
   "source": [
    "Misc (tests, etc.)"
   ]
  },
  {
   "cell_type": "code",
   "execution_count": 58,
   "metadata": {},
   "outputs": [
    {
     "name": "stdout",
     "output_type": "stream",
     "text": [
      "gender                                       int64\n",
      "SeniorCitizen                                int64\n",
      "Partner                                      int64\n",
      "Dependents                                   int64\n",
      "tenure                                     float64\n",
      "PhoneService                                 int64\n",
      "MultipleLines                                int64\n",
      "OnlineSecurity                               int64\n",
      "OnlineBackup                                 int64\n",
      "DeviceProtection                             int64\n",
      "TechSupport                                  int64\n",
      "StreamingTV                                  int64\n",
      "StreamingMovies                              int64\n",
      "PaperlessBilling                             int64\n",
      "MonthlyCharges                             float64\n",
      "TotalCharges                               float64\n",
      "InternetService_DSL                          uint8\n",
      "InternetService_Fiber optic                  uint8\n",
      "InternetService_No                           uint8\n",
      "Contract_Month-to-month                      uint8\n",
      "Contract_One year                            uint8\n",
      "Contract_Two year                            uint8\n",
      "PaymentMethod_Bank transfer (automatic)      uint8\n",
      "PaymentMethod_Credit card (automatic)        uint8\n",
      "PaymentMethod_Electronic check               uint8\n",
      "PaymentMethod_Mailed check                   uint8\n",
      "dtype: object\n",
      "(7032, 26)\n"
     ]
    }
   ],
   "source": [
    "print(X.dtypes)\n",
    "print(X.shape)"
   ]
  },
  {
   "cell_type": "code",
   "execution_count": 59,
   "metadata": {},
   "outputs": [
    {
     "name": "stdout",
     "output_type": "stream",
     "text": [
      "(7032, 21)\n",
      "72 1\n",
      "118.75 18.25\n",
      "8684.8 18.8\n"
     ]
    }
   ],
   "source": [
    "df1 = pd.read_csv(\"data.csv\")\n",
    "df1[pd.to_numeric(df1.TotalCharges,errors='coerce').isnull()]     # check which records are problematic\n",
    "df1 = df1[df1.TotalCharges!=' ']                                   # drop the records with blank TotalCharges\n",
    "print (df1.shape)\n",
    "df1.TotalCharges = pd.to_numeric(df1.TotalCharges)\n",
    "print(max(df1['tenure']), min(df1['tenure']))\n",
    "print(max(df1['MonthlyCharges']), min(df1['MonthlyCharges']))\n",
    "print(max(df1['TotalCharges']), min(df1['TotalCharges']))"
   ]
  },
  {
   "cell_type": "code",
   "execution_count": 60,
   "metadata": {},
   "outputs": [
    {
     "name": "stdout",
     "output_type": "stream",
     "text": [
      "Likely to churn\n",
      "0.8423282\n",
      "[[0.16254103]]\n"
     ]
    }
   ],
   "source": [
    "# checking for first record in data.csv\n",
    "pred = model.predict([[1,0,1,0,0.0,0,0,0,1,0,0,0,0,1,(29.85-18.25)/(118.75-18.25),(29.85-18.8)/(8684.8-18.8),1,0,0,1,0,0,0,0,1,0]])\n",
    "# probab = model.predict_proba([[1,0,1,0,0.0,0,0,0,1,0,0,0,0,1,(29.85-18.25)/(118.75-18.25),(29.85-18.8)/(8684.8-18.8),1,0,0,1,0,0,0,0,1,0]])\n",
    "if pred>0.5:\n",
    "    print('Likely to churn')\n",
    "else:\n",
    "    print('Likely not to churn')\n",
    "print(pred[0,0])\n",
    "\n",
    "pred = model.predict([[0,0,0,0,0.0,1,1,1,1,1,1,1,1,1,(29.85-18.25)/(118.75-18.25),(29.85-18.8)/(8684.8-18.8),1,0,0,1,0,0,1,0,0,0]])\n",
    "print(pred)"
   ]
  }
 ],
 "metadata": {
  "interpreter": {
   "hash": "45d3a30ac4df3c2b63fb744a1e03b67365dff75088c46024ed5d013542c29b80"
  },
  "kernelspec": {
   "display_name": "Python 3.9.4 64-bit",
   "language": "python",
   "name": "python3"
  },
  "language_info": {
   "codemirror_mode": {
    "name": "ipython",
    "version": 3
   },
   "file_extension": ".py",
   "mimetype": "text/x-python",
   "name": "python",
   "nbconvert_exporter": "python",
   "pygments_lexer": "ipython3",
   "version": "3.9.4"
  },
  "orig_nbformat": 4
 },
 "nbformat": 4,
 "nbformat_minor": 2
}
